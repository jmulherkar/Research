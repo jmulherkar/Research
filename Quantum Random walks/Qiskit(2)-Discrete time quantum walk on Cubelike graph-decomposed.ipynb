{
 "cells": [
  {
   "cell_type": "code",
   "execution_count": 17,
   "metadata": {},
   "outputs": [],
   "source": [
    "import os\n",
    "import sys\n",
    "import math\n",
    "import random\n",
    "import itertools\n",
    "from sympy import *\n",
    "import numpy as np\n",
    "import matplotlib.pyplot as plt\n",
    "\n",
    "                                                                                                                                                                                                                                                                                                                                                                                                                                                                                                                                                                                                                                                                                                                                                                                                                                                                                                                                                                                                                                                                                                                                                                                                                                                                                                                                                                                                                                                                                                                                                                                                                                                                                                                                                                                                                                                                                                                                                                                                                                                                                                                                                                                                                                                                                                                                                                                                                                                                                                                                                                                                                                                                                                                                                                                                                                                                                                                                                                                                                                                                                                                                                                                                                                                                                                                                                                                                                                                                                                                                                                                                                                                                                                                                                                                                                                                                                                                                                                                                                                                                                                                                                                                                                                                                                                                                                                                                                                                                                                                                                                                                                                                                                                                                                                                                                                                                                                                                                                                                                                                                                                                        \n",
    "import networkx as nx\n",
    "\n",
    "\n",
    "from qiskit import QuantumCircuit, Aer, execute, assemble, IBMQ, BasicAer\n",
    "from qiskit.tools.monitor import job_monitor\n",
    "from qiskit.quantum_info import Operator\n",
    "from qiskit.circuit.library import XGate\n",
    "from qiskit.visualization import plot_histogram, plot_state_city\n",
    "\n",
    "from qiskit_textbook.tools import array_to_latex"
   ]
  },
  {
   "cell_type": "code",
   "execution_count": 18,
   "metadata": {},
   "outputs": [
    {
     "name": "stdout",
     "output_type": "stream",
     "text": [
      "/home/rkrd/Documents/Python/Quantum Lab Codes\n"
     ]
    }
   ],
   "source": [
    "path = os.getcwd()\n",
    "print(path)"
   ]
  },
  {
   "cell_type": "code",
   "execution_count": 19,
   "metadata": {},
   "outputs": [
    {
     "name": "stdout",
     "output_type": "stream",
     "text": [
      "Enter the count\n",
      "1\n"
     ]
    }
   ],
   "source": [
    "print('Enter the count')\n",
    "counter=int(input())"
   ]
  },
  {
   "cell_type": "markdown",
   "metadata": {},
   "source": [
    "A generating set $\\Omega\\subset\\mathbb{Z}_2^n$ is a set that generates $\\mathbb{Z}_2^n$. So, the generating set is of size at least $n$. Clearly, size can not be greater than $2^n-1$."
   ]
  },
  {
   "cell_type": "code",
   "execution_count": 20,
   "metadata": {
    "scrolled": true
   },
   "outputs": [
    {
     "name": "stdout",
     "output_type": "stream",
     "text": [
      "Enter the dimension of the Cubelike graph.\n",
      "2\n",
      "Minimum degree allowed:  2 \n",
      "Maximum degree allowed:  3\n",
      "Enter the size of the generating set.\n",
      "2\n"
     ]
    }
   ],
   "source": [
    "print('Enter the dimension of the Cubelike graph.')\n",
    "n = int(input())\n",
    "print('Minimum degree allowed: ',n,'\\nMaximum degree allowed: ',2**n-1)\n",
    "\n",
    "while True:\n",
    "    print('Enter the size of the generating set.')\n",
    "    d = int(input())\n",
    "    if d<n or d>2**n-1:\n",
    "        if d<n:\n",
    "            print('The size is too small for the graph to be connected')\n",
    "        elif d>2**n-1:\n",
    "            print('The size is too high for the graph to be constructed')\n",
    "        print('Do you want to enter the size of the generating set again?')\n",
    "        option = input()\n",
    "        if option == 'y' or option == 'Y':\n",
    "            continue\n",
    "        else:\n",
    "            raise Exception('Integers below n and above 2^n not allowed')\n",
    "    else:\n",
    "        break        \n"
   ]
  },
  {
   "cell_type": "code",
   "execution_count": 21,
   "metadata": {},
   "outputs": [],
   "source": [
    "                                                                                                                                                                                                                                                                                                                                                                                                                                                                                                                                                                                                                                                                                                                                                                                                                                                                                                                                                                                                                                                                                                                                                                                                                                                                                                                                                                                                                                                                                                                                                                                                                   N = 2**n ### number of vertices in the graph\n",
    "m = math.ceil(math.log(d,2)) ### number of qubits required\n",
    "Vertex_set = [v for v in range(N)]\n",
    "Gen_set = [2**i for i in range(n)]  ###at least n linearly independent sets required to generate the group\n",
    "# print('Vertex set: ', Vertex_set, '\\nInitialized Generating set: ',Gen_set)"
   ]
  },
  {
   "cell_type": "code",
   "execution_count": 22,
   "metadata": {
    "scrolled": true
   },
   "outputs": [
    {
     "name": "stdout",
     "output_type": "stream",
     "text": [
      "Generating set:  ['01', '10']\n"
     ]
    }
   ],
   "source": [
    "if n<d:\n",
    "    if d == 2*n-1:\n",
    "        print('Do you want to generate Augmented cube')\n",
    "        option = input()\n",
    "        if option == 'y' or option == 'Y':\n",
    "            for x in range(1,n):\n",
    "                vertex = 1\n",
    "                for y in range(1,x+1):\n",
    "                    vertex = vertex^(2**y)\n",
    "                Gen_set += [vertex]\n",
    "        else:\n",
    "            print('Do you want to enter the remaining elements in the generating set')\n",
    "            option = 'n' #input()\n",
    "            if option == 'y' or option == 'Y':\n",
    "                print('Please enter the remaining integers (>0 and <=',N-1,').')\n",
    "                Gen_set += [int(input()) for count in range(d-n)]\n",
    "            else:\n",
    "                Remained_vertex = list(set(Vertex_set) - set(Gen_set)) ###standard basis removed to select from rest\n",
    "                Remained_vertex.remove(0)\n",
    "                Add_gen_vertex = random.sample(Remained_vertex, d-n)\n",
    "                Gen_set += Add_gen_vertex\n",
    "\n",
    "    else:\n",
    "        print('Do you want to enter the remaining elements in the generating set')\n",
    "        option = 'n' #input()\n",
    "        if option == 'y' or option == 'Y':\n",
    "            print('Please enter the remaining integers (>0 and <=',N-1,').')\n",
    "            Gen_set += [int(input()) for count in range(d-n)]\n",
    "        else:\n",
    "            Remained_vertex = list(set(Vertex_set) - set(Gen_set)) ###standard basis removed to select from rest\n",
    "            Remained_vertex.remove(0)\n",
    "            Add_gen_vertex = random.sample(Remained_vertex, d-n)\n",
    "            Gen_set += Add_gen_vertex\n",
    "\n",
    "print('Generating set: ', [bin(x)[2:].zfill(n) for x in Gen_set])"
   ]
  },
  {
   "cell_type": "code",
   "execution_count": 23,
   "metadata": {},
   "outputs": [
    {
     "name": "stdout",
     "output_type": "stream",
     "text": [
      "3\n",
      "11\n"
     ]
    }
   ],
   "source": [
    "###Propose vertex that gets hit = sum of elements of Generating set\n",
    "sum = 0\n",
    "for x in Gen_set:\n",
    "    sum = sum^int(bin(x),2)\n",
    "print(sum)\n",
    "target_node=bin(sum)[2:]\n",
    "print(target_node)"
   ]
  },
  {
   "cell_type": "code",
   "execution_count": 24,
   "metadata": {},
   "outputs": [
    {
     "data": {
      "image/png": "[encoded data removed]",
      "text/plain": [
       "<Figure size 640x480 with 1 Axes>"
      ]
     },
     "metadata": {},
     "output_type": "display_data"
    }
   ],
   "source": [
    "G = nx.Graph()\n",
    "for edge in itertools.product(range(N),range(N)):\n",
    "    value = edge[0]^edge[1]\n",
    "    if value in Gen_set:\n",
    "        G.add_edge(edge[0], edge[1])\n",
    "nx.draw(G, with_labels = True)\n",
    "# plt.show()\n",
    "plt.savefig(path+'/Figures/'+str(counter)+'_dim_'+str(n)+'_deg_'+str(d)+'_targ_'+target_node+'.eps', format='eps')"
   ]
  },
  {
   "cell_type": "code",
   "execution_count": 44,
   "metadata": {},
   "outputs": [
    {
     "name": "stdout",
     "output_type": "stream",
     "text": [
      "Do you want to construct matrix for Grover operator (y/n)\n"
     ]
    },
    {
     "data": {
      "image/png": "[encoded data removed]",
      "text/plain": [
       "<Figure size 269.064x117.056 with 1 Axes>"
      ]
     },
     "execution_count": 44,
     "metadata": {},
     "output_type": "execute_result"
    }
   ],
   "source": [
    "print('Do you want to construct matrix for Grover operator (y/n)')\n",
    "ans = 'y'\n",
    "if ans == 'y' or ans == 'Y':\n",
    "    Grover_op = (2/d)*ones(d)-eye(d)\n",
    "    \n",
    "    for increment in range(d, 2**m):\n",
    "        Grover_op = Grover_op.col_insert(increment, Matrix([0 for i in range(increment)]))\n",
    "        Grover_op = Grover_op.row_insert(increment, Matrix([[0 for i in range(increment)]+[-1]]))\n",
    "    Grover = QuantumCircuit(m, name = 'Grover')\n",
    "    Grover.append(Operator(np.matrix(Grover_op)),range(m))\n",
    "elif m>1:\n",
    "    Grover = QuantumCircuit(m, name = 'Grover')\n",
    "    Grover.h(range(m))\n",
    "    Grover.x(range(m))\n",
    "    Grover.barrier()\n",
    "    Grover.h(m-1)\n",
    "    Grover.append(XGate().control(m-1),[i for i in range(m)])\n",
    "    Grover.h(m-1)\n",
    "    Grover.barrier()\n",
    "    Grover.x(range(m))\n",
    "    Grover.h(range(m))\n",
    "elif m==1:\n",
    "    Grover = QuantumCircuit(1, name = 'Grover')\n",
    "    Grover.h(0)\n",
    "    Grover.x(0)\n",
    "    Grover.z(0)\n",
    "    Grover.x(0)\n",
    "    Grover.h(0)\n",
    "\n",
    "Grover = Grover.decompose()\n",
    "Grover.draw('mpl')"
   ]
  },
  {
   "cell_type": "code",
   "execution_count": 10,
   "metadata": {},
   "outputs": [],
   "source": [
    "# backend = Aer.get_backend('unitary_simulator')\n",
    "# job = execute(Grover, backend)\n",
    "# result = job.result()\n",
    "# unitary = result.get_unitary()\n",
    "# array_to_latex(unitary)"
   ]
  },
  {
   "cell_type": "code",
   "execution_count": 37,
   "metadata": {
    "scrolled": false
   },
   "outputs": [
    {
     "data": {
      "image/png": "[encoded data removed]",
      "text/plain": [
       "<Figure size 538.33x284.278 with 1 Axes>"
      ]
     },
     "execution_count": 37,
     "metadata": {},
     "output_type": "execute_result"
    }
   ],
   "source": [
    "### we will move from 000 towards 111, instead reverse\n",
    "Shift_op = QuantumCircuit(n+m, name = 'Shift')\n",
    "control_qubits = [n+m-1-i for i in range(m)]\n",
    "state_qubits = [n-1-i for i in range(n)]\n",
    "coin_qubits = [m-1-i for i in range(m)]\n",
    "\n",
    "balance_X = [0]*m\n",
    "for i in range(d): ###Gen_set, labelling done from 0 to d-1 \n",
    "    edge_label = Gen_set[i]\n",
    "    target_qubits = [int(x) for x in str(bin(edge_label)[2:].zfill(n))] ###vertex qubits \n",
    "    control_X = [int(x) for x in str(bin(i)[2:].zfill(m))]  ###shifts for 1\n",
    "    #print(i,'\\t',edge_label,'\\t',control_X,'\\t',target_qubits)\n",
    "    \n",
    "    for x in coin_qubits:\n",
    "        Shift_op.x(n+m-1-x)\n",
    "        balance_X[x] = balance_X[x]^1\n",
    "        #print(x,':\\tbalanced X:',balance_X)\n",
    "        if control_X[x] == 1:\n",
    "            break\n",
    "    for target in state_qubits:\n",
    "        if target_qubits[target] == 1:\n",
    "            Shift_op.append(XGate().control(m), control_qubits + [n-1-target])\n",
    "    \n",
    "Shift_op.barrier()\n",
    "for balance in coin_qubits:\n",
    "    if balance_X[balance] == 1:\n",
    "        Shift_op.x(n+m-1-balance)\n",
    "\n",
    "Shift_op.draw('mpl')"
   ]
  },
  {
   "cell_type": "code",
   "execution_count": 40,
   "metadata": {
    "scrolled": true
   },
   "outputs": [
    {
     "name": "stdout",
     "output_type": "stream",
     "text": [
      "Enter the number of steps\n",
      "2\n"
     ]
    },
    {
     "data": {
      "image/png": "[encoded data removed]",
      "text/plain": [
       "<Figure size 2043.33x367.889 with 1 Axes>"
      ]
     },
     "execution_count": 40,
     "metadata": {},
     "output_type": "execute_result"
    }
   ],
   "source": [
    "qc = QuantumCircuit(n+m,n)\n",
    "\n",
    "print('Enter the number of steps')\n",
    "steps = int(input())\n",
    "\n",
    "if ans == 'y' or ans == 'Y':\n",
    "    initial_vector = [1/math.sqrt(d)]*d + [0]*(2**m-d)\n",
    "    qc.initialize(initial_vector, range(n,n+m))\n",
    "else:\n",
    "    qc.h(range(n,n+m))\n",
    "\n",
    "qc.barrier()\n",
    "\n",
    "for step in range(steps):\n",
    "    if ans == 'y' or ans == 'Y':\n",
    "        pass\n",
    "    else:\n",
    "        pass\n",
    "    qc.append(Grover, range(n,n+m))\n",
    "    qc.append(Shift_op,range(n+m))\n",
    "    qc.barrier()\n",
    "\n",
    "\n",
    "\n",
    "for i in range(n):\n",
    "    qc.measure(i,i)\n",
    "\n",
    "qc = qc.decompose()\n",
    "qc.draw('mpl')\n"
   ]
  },
  {
   "cell_type": "code",
   "execution_count": 14,
   "metadata": {
    "scrolled": false
   },
   "outputs": [
    {
     "data": {
      "image/png": "[encoded data removed]",
      "text/plain": [
       "<Figure size 1500x800 with 1 Axes>"
      ]
     },
     "execution_count": 14,
     "metadata": {},
     "output_type": "execute_result"
    }
   ],
   "source": [
    "backend = Aer.get_backend('qasm_simulator')\n",
    "job = execute(qc, backend)\n",
    "result = job.result()\n",
    "counts = result.get_counts()\n",
    "#plot_histogram(counts)\n",
    "count={}\n",
    "for x in counts:\n",
    "    y=int(x,2)\n",
    "    count[y]=counts[x]\n",
    "#print(count)\n",
    "plot_histogram(counts,figsize=(15,8))"
   ]
  },
  {
   "cell_type": "code",
   "execution_count": 14,
   "metadata": {},
   "outputs": [],
   "source": [
    "# count={}\n",
    "# for x in counts:\n",
    "#     y=int(x,2)\n",
    "#     count[y]=counts[x]/1024\n",
    "# plt.bar(list(count.keys()),list(count.values()))\n",
    "# plt.show()\n",
    "# backend = Aer.get_backend('statevector_simulator') # the device to run on\n",
    "# result = execute(qc, backend).result()\n",
    "# psi  = result.get_statevector(qc)\n",
    "# plot_state_city(psi)"
   ]
  },
  {
   "cell_type": "code",
   "execution_count": 15,
   "metadata": {},
   "outputs": [],
   "source": [
    "plot_histogram(counts, figsize=(15,8), title='step'+str(steps)).savefig(path+'/Figures/'+str(counter)+'_dim_'+str(n)+'_deg_'+str(d)+'_step_'+str(steps)+'.eps')"
   ]
  },
  {
   "cell_type": "code",
   "execution_count": 16,
   "metadata": {},
   "outputs": [],
   "source": [
    "# filename = 'deg_2^n-1'\n",
    "# filename2 = 'T_vs_deg_2^n-1'\n",
    "# texfile = 'tex_deg_2^n-1'\n",
    "# outfile=open(path+'/Figures/T_vs_n+k/'+filename+'.txt','a')\n",
    "# outfile2=open(path+'/Figures/T_vs_n+k/'+filename2+'.txt','a')\n",
    "# outfile3=open(path+'/Figures/T_vs_n+k/'+texfile+'.txt','a')\n",
    "# outfile.write(str(counter)+':\\t dim = '+str(n)+'\\t deg = '+str(d)+'\\n')\n",
    "# outfile2.write(str(n)+' '+str(d)+' '+str(steps)+'\\n')\n",
    "# GenSet = [bin(x)[2:].zfill(n) for x in Gen_set]\n",
    "# outfile.write('Gen set= '+str(GenSet)+'\\n')\n",
    "# outfile.write('Gen set= '+str(Gen_set)+'\\n')\n",
    "# max_prob = max(list(counts.values()))\n",
    "# outfile.write('Target= '+str(int(target_node,2))+'='+str(target_node)+'\\t steps= '+str(steps) +'\\t prob= '+str(max_prob/1024))\n",
    "# outfile.write('\\n\\n')\n",
    "# outfile3.write(str(n)+' & '+str(d)+' & '+'\\{'+str(Gen_set).strip('[]')+'\\}'+' & '+str(int(target_node,2))+' & '+str(steps)+' & '+str(round(max_prob/1024,3))+' \\\\\\\\ \\n'+'\\hline\\n')\n",
    "# outfile.close()\n",
    "# outfile2.close()\n",
    "# outfile3.close()"
   ]
  },
  {
   "cell_type": "code",
   "execution_count": 17,
   "metadata": {},
   "outputs": [],
   "source": [
    "# IBMQ.load_account()\n",
    "# provider = IBMQ.get_provider(hub = 'ibm-q')\n",
    "# for backend in provider.backends():\n",
    "#     print(backend)\n",
    "# print('Enter computer name')\n",
    "# computer = input()\n",
    "# backend = provider.get_backend(computer)"
   ]
  },
  {
   "cell_type": "code",
   "execution_count": 18,
   "metadata": {
    "scrolled": true
   },
   "outputs": [],
   "source": [
    "# job = execute(qc, backend)\n",
    "# job_monitor(job)\n",
    "# result = job.result()\n",
    "# counts = result.get_counts()\n",
    "# count={}\n",
    "# for x in counts:\n",
    "#     y=int(x,2)\n",
    "#     count[y]=counts[x]\n",
    "# plot_histogram(count,figsize=(30,10))"
   ]
  },
  {
   "cell_type": "code",
   "execution_count": 19,
   "metadata": {},
   "outputs": [
    {
     "name": "stdout",
     "output_type": "stream",
     "text": [
      "Enter filename\n"
     ]
    }
   ],
   "source": [
    "print('Enter filename')\n",
    "#filename = input()\n",
    "# plot_histogram(counts, title = 'step'+str(steps)).savefig(path+'/Figures/'+computer+'_cube_'+str(n)+'_deg_'+str(d)+'_step_'+str(steps)+'.eps')"
   ]
  },
  {
   "cell_type": "code",
   "execution_count": 20,
   "metadata": {},
   "outputs": [],
   "source": [
    "# print('Enter the maximum number of evolutions')\n",
    "# max_step = int(input())\n",
    "# print('Enter the filename')\n",
    "# filename = 'hypercube' #input()\n",
    "# pst_time = 0\n",
    "\n",
    "# out_file = open(path+'/TextFiles/'+filename + '.txt','a')\n",
    "# out_file.write(filename + ' graph: dim= '+str(n)+', degree= '+str(d)+'\\n')\n",
    "# out_file.write('Generating set: '+str(Gen_set)+'\\n')\n",
    "\n",
    "# T_p ={}\n",
    "# for steps in [i for i in range(1,max_step)]:\n",
    "#     qc = QuantumCircuit(n+m,n)\n",
    "#     if ans == 'y' or ans == 'Y':\n",
    "#         initial_vector = [1/math.sqrt(d)]*d + [0]*(2**m-d)\n",
    "#         qc.initialize(initial_vector, range(n,n+m))\n",
    "#     else:\n",
    "#         qc.h(range(n,n+m))\n",
    "\n",
    "#     qc.barrier()\n",
    "\n",
    "#     for step in range(steps):\n",
    "#         if ans == 'y' or ans == 'Y':\n",
    "#             pass\n",
    "#         else:\n",
    "#             pass\n",
    "#         qc.append(Grover, range(n,n+m))\n",
    "#         qc.barrier()\n",
    "#         qc.append(Shift_op,range(n+m))\n",
    "#     qc.barrier()\n",
    "\n",
    "    \n",
    "#     for i in range(n):\n",
    "#         qc.measure(i,i)\n",
    "    \n",
    "#     backend = Aer.get_backend('qasm_simulator')\n",
    "#     job = execute(qc, backend)\n",
    "#     result = job.result()\n",
    "#     counts = result.get_counts()\n",
    "#     zero = bin(0)[2:].zfill(n)\n",
    "#     if zero in counts and counts[zero]>900:\n",
    "#         print(zero,':\\t',steps,': ',counts[zero]/1024)\n",
    "#         out_file.write(zero+' -> T= '+str(steps)+': p= '+str(counts[zero]/1024)+'\\n')\n",
    "#     for x in counts:\n",
    "#         if counts[x]>900 and x!=zero:\n",
    "#             print(x,':\\t',steps,': ',counts[x]/1024)\n",
    "#             out_file.write(x+' -> T= '+str(steps)+': p= '+str(counts[x]/1024)+'\\n')\n",
    "#         if counts[x]>=999:\n",
    "#             pst_time = steps\n",
    "#             pst = counts\n",
    "\n",
    "# out_file.write('\\n\\n')\n",
    "# out_file.close()"
   ]
  },
  {
   "cell_type": "code",
   "execution_count": 21,
   "metadata": {},
   "outputs": [
    {
     "name": "stdout",
     "output_type": "stream",
     "text": [
      "done with cubelike graph of dimension  2\n"
     ]
    }
   ],
   "source": [
    "print('done with cubelike graph of dimension ',n)"
   ]
  }
 ],
 "metadata": {
  "kernelspec": {
   "display_name": "Python 3 (ipykernel)",
   "language": "python",
   "name": "python3"
  },
  "language_info": {
   "codemirror_mode": {
    "name": "ipython",
    "version": 3
   },
   "file_extension": ".py",
   "mimetype": "text/x-python",
   "name": "python",
   "nbconvert_exporter": "python",
   "pygments_lexer": "ipython3",
   "version": "3.9.13"
  }
 },
 "nbformat": 4,
 "nbformat_minor": 4
}
