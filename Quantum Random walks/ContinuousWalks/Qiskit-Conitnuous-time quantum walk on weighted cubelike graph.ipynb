{
 "cells": [
  {
   "cell_type": "code",
   "execution_count": 1,
   "metadata": {},
   "outputs": [],
   "source": [
    "import os\n",
    "import random\n",
    "import matplotlib.pyplot as plt\n",
    "import networkx as nx\n",
    "from sympy import *\n",
    "import numpy as np\n",
    "\n",
    "from qiskit import QuantumCircuit, Aer, execute, IBMQ\n",
    "from qiskit.tools.monitor import job_monitor\n",
    "from qiskit.visualization import plot_histogram\n",
    "from qiskit_textbook.tools import array_to_latex"
   ]
  },
  {
   "cell_type": "code",
   "execution_count": 2,
   "metadata": {},
   "outputs": [
    {
     "name": "stdout",
     "output_type": "stream",
     "text": [
      "/home/rkrd/Documents/Python/Quantum Lab Codes\n"
     ]
    }
   ],
   "source": [
    "path = os.getcwd()\n",
    "print(path)"
   ]
  },
  {
   "cell_type": "code",
   "execution_count": 3,
   "metadata": {},
   "outputs": [
    {
     "name": "stdout",
     "output_type": "stream",
     "text": [
      "Enter the dimension of the cubelike graph\n",
      "2\n",
      "Enter the size of the generating set\n",
      "2\n",
      "Enter the elements (positive integers) and weights of the generating set\n",
      "1 1\n",
      "2 1\n",
      "Gen set in integer forms  [1, 2]\n",
      "Gen set weights  [1, 1]\n",
      "Generating set  [[0, 1], [1, 0]]\n",
      "Target =  [1, 1]\n",
      "Target =  3\n"
     ]
    }
   ],
   "source": [
    "print('Enter the dimension of the cubelike graph')\n",
    "n = int(input())\n",
    "N=2**n\n",
    "print('Enter the size of the generating set')\n",
    "d = int(input())\n",
    "print('Enter the elements (positive integers) and weights of the generating set')\n",
    "Weight = []\n",
    "Gen_set = []\n",
    "for i in range(d):\n",
    "    x,y = input().split()\n",
    "    Gen_set.append(int(x))\n",
    "    Weight.append(int(y))\n",
    "#Gen_set = [int(input()) for x in range(d)]\n",
    "Gen_bin = []\n",
    "for x in Gen_set:\n",
    "    Gen_bin += [[int(i) for i in str(bin(x)[2:].zfill(n))]]\n",
    "print('Gen set in integer forms ',Gen_set)\n",
    "print('Gen set weights ',Weight)\n",
    "print('Generating set ',Gen_bin)\n",
    "\n",
    "### calculate target\n",
    "target = [0]*n\n",
    "for i in range(n): #runs over bits of target, careful to read from right to left\n",
    "    k = 2**i\n",
    "    b_k = [int(y) for y in bin(k)[2:].zfill(n)]\n",
    "    s=0 #sum over z_l\n",
    "    for j in range(d):\n",
    "        l = Gen_set[j]\n",
    "        b_l = [int(y) for y in bin(l)[2:].zfill(n)]\n",
    "        if np.dot(b_k,b_l)%2 == 1:\n",
    "            s += Weight[j]\n",
    "    if s%2 == 1:\n",
    "        target[n-i-1] = 1\n",
    "print('Target = ',target)\n",
    "Target = 0 #get integer form of target\n",
    "for i in range(n):\n",
    "    Target += target[n-i-1]*2**i\n",
    "print('Target = ',Target)"
   ]
  },
  {
   "cell_type": "code",
   "execution_count": 6,
   "metadata": {
    "scrolled": true
   },
   "outputs": [
    {
     "name": "stdout",
     "output_type": "stream",
     "text": [
      "Enter time t\n",
      "pi/2\n",
      "Enter figure number\n",
      "1\n"
     ]
    },
    {
     "data": {
      "image/png": "[encoded data removed]",
      "text/plain": [
       "<Figure size 1049.8x264.88 with 1 Axes>"
      ]
     },
     "execution_count": 6,
     "metadata": {},
     "output_type": "execute_result"
    }
   ],
   "source": [
    "qc = QuantumCircuit(n+1,n)\n",
    "print('Enter time t')\n",
    "t = input()\n",
    "t = float(simplify(t).evalf())\n",
    "\n",
    "for j in range(d):\n",
    "    x=Gen_bin[j]\n",
    "    w=Weight[j]\n",
    "    qc.h(range(n))\n",
    "    qc.barrier()\n",
    "    for i in range(n):\n",
    "        if x[i]==1:\n",
    "            qc.cx(n-i-1,n)\n",
    "    qc.rz(2*t*w,n)\n",
    "    for i in range(n):\n",
    "        if x[i]==1:\n",
    "            qc.cx(n-i-1,n)\n",
    "    qc.barrier()\n",
    "    qc.h(range(n))\n",
    "   \n",
    "    \n",
    "for i in range(n):\n",
    "    qc.measure(i,i)\n",
    "\n",
    "print('Enter figure number')\n",
    "num = int(input())\n",
    "qc.draw('mpl')"
   ]
  },
  {
   "cell_type": "code",
   "execution_count": null,
   "metadata": {},
   "outputs": [],
   "source": [
    "qc.draw(filename=path+'/Figures/'+'Fig_'+str(num),output='mpl')"
   ]
  },
  {
   "cell_type": "code",
   "execution_count": null,
   "metadata": {},
   "outputs": [],
   "source": [
    "backend = Aer.get_backend('qasm_simulator')\n",
    "job = execute(qc,backend)\n",
    "result = job.result()\n",
    "counts = result.get_counts()\n",
    "plot_histogram(counts)"
   ]
  },
  {
   "cell_type": "code",
   "execution_count": null,
   "metadata": {},
   "outputs": [],
   "source": [
    "plot_histogram(counts,title='Simulated result').savefig(path+'/Figures/'+'Fig'+str(num)+'.png')"
   ]
  },
  {
   "cell_type": "code",
   "execution_count": null,
   "metadata": {},
   "outputs": [],
   "source": [
    "IBMQ.load_account()\n",
    "provider = IBMQ.get_provider(hub='ibm-q')\n",
    "for backend in provider.backends():\n",
    "    print(backend)"
   ]
  },
  {
   "cell_type": "code",
   "execution_count": null,
   "metadata": {},
   "outputs": [],
   "source": [
    "qcomp = provider.get_backend('ibmq_manila')\n",
    "job = execute(qc,backend=qcomp)\n",
    "job_monitor(job)"
   ]
  },
  {
   "cell_type": "code",
   "execution_count": null,
   "metadata": {},
   "outputs": [],
   "source": [
    "result = job.result()\n",
    "counts = result.get_counts()\n",
    "plot_histogram(counts)"
   ]
  },
  {
   "cell_type": "code",
   "execution_count": null,
   "metadata": {},
   "outputs": [],
   "source": [
    "plot_histogram(counts,title='Experimental result').savefig(path+'/Figures/'+'Fig'+str(num+1)+'.png')"
   ]
  },
  {
   "cell_type": "code",
   "execution_count": null,
   "metadata": {},
   "outputs": [],
   "source": []
  }
 ],
 "metadata": {
  "kernelspec": {
   "display_name": "Python 3 (ipykernel)",
   "language": "python",
   "name": "python3"
  },
  "language_info": {
   "codemirror_mode": {
    "name": "ipython",
    "version": 3
   },
   "file_extension": ".py",
   "mimetype": "text/x-python",
   "name": "python",
   "nbconvert_exporter": "python",
   "pygments_lexer": "ipython3",
   "version": "3.9.13"
  }
 },
 "nbformat": 4,
 "nbformat_minor": 4
}
